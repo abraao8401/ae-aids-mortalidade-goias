{
 "cells": [
  {
   "cell_type": "markdown",
   "id": "a7f36096",
   "metadata": {},
   "source": [
    "# **Análise Estatística da Mortalidade por AIDS no Estado de Goiás**"
   ]
  },
  {
   "cell_type": "markdown",
   "id": "92799195-bcfd-4879-9087-103ec0cf830e",
   "metadata": {},
   "source": [
    " Objetivo: Criar um pipeline que extrai, transforma, analisa e gera insights através de gráficos sobre a mortalidade por AIDS no estado de Goiás, no período de 2010 a 2024\n"
   ]
  },
  {
   "cell_type": "markdown",
   "id": "e8995205-e804-4712-9ef7-9184ca4321e9",
   "metadata": {},
   "source": [
    "## **📊 Perguntas Gerais**"
   ]
  },
  {
   "cell_type": "markdown",
   "id": "4506da5d-16fe-477a-8619-0b523834b46b",
   "metadata": {},
   "source": [
    "### Distribuição Temporal\n",
    "\n",
    "1. Quantos óbitos por AIDS ocorreram em Goiás ao longo do tempo?\n",
    "2. Qual município teve o maior número de óbitos?\n",
    "3. Como a mortalidade por AIDS está distribuída por macrorregião e região?\n",
    "\n",
    "### Perguntas Demográficas e Perfil das Vítimas\n",
    "\n",
    "4. Qual a distribuição de óbitos por sexo? Há diferenças significativas entre homens e mulheres?\n",
    "5. Qual a distribuição por raça/cor?\n",
    "6. Qual faixa etária é mais afetada?\n",
    "7. Existe alguma relação entre escolaridade e mortalidade por AIDS?\n",
    "\n",
    "### Análises Geográficas\n",
    "\n",
    "8. Como a taxa de mortalidade por município se distribui no mapa de Goiás?\n",
    "9. Quais municípios tiveram um crescimento ou redução no número de óbitos ao longo dos anos?\n",
    "10. Há correlação entre macrorregião e a quantidade de óbitos? Algumas áreas são mais afetadas?\n",
    "\n",
    "### Tendências e Comparações\n",
    "\n",
    "11. A mortalidade por AIDS tem aumentado ou diminuído ao longo dos anos?\n",
    "12. Quais são os períodos do ano com mais óbitos? Existe sazonalidade?\n",
    "13. O número de óbitos por AIDS é maior entre adultos, crianças ou gestantes?\n",
    "14. Qual a relação entre sexo e faixa etária na mortalidade por AIDS?\n"
   ]
  },
  {
   "cell_type": "markdown",
   "id": "9f050ca0-8a9b-4a8b-a447-4ffd90efdf9b",
   "metadata": {},
   "source": [
    "## **📌 Perguntas para Análise de Mortalidade por AIDS e Geral em Goiás**"
   ]
  },
  {
   "cell_type": "markdown",
   "id": "e49dd47e-47a0-4ad6-9277-492a76be72d8",
   "metadata": {},
   "source": [
    "### Relação entre Óbitos por AIDS e Mortalidade Geral\n",
    "\n",
    "1. Qual a porcentagem de óbitos por AIDS em relação à mortalidade geral no estado de Goiás?\n",
    "\n",
    "2. Como a mortalidade por AIDS se compara à mortalidade geral em diferentes faixas etárias e sexos?\n",
    "\n",
    "3. Quais municípios possuem as maiores taxas de mortalidade por AIDS em relação à mortalidade geral?\n",
    "\n",
    "4. Há regiões específicas com aumento ou redução dos óbitos por AIDS ao longo do tempo?\n",
    "\n",
    "### Análises Temporais e Geográficas\n",
    "\n",
    "5. Como a evolução da mortalidade por AIDS se comporta em relação à mortalidade geral ao longo dos anos?\n",
    "\n",
    "6. Quais municípios tiveram crescimento ou redução significativa na mortalidade por AIDS?\n",
    "\n",
    "7. Há regiões onde a mortalidade geral é alta, mas a de AIDS é baixa (ou vice-versa)?\n",
    "\n",
    "### Perfil das Vítimas e Padrões de Mortalidade\n",
    "\n",
    "8. Qual a distribuição dos óbitos por AIDS em relação ao Cód. CID-10 na base de mortalidade geral?\n",
    "\n",
    "9. Quais outras causas de morte aparecem frequentemente junto aos óbitos por AIDS?\n",
    "\n",
    "10. Como a escolaridade influencia na taxa de mortalidade por AIDS? (se aplicável)\n",
    "\n",
    "11. Há alguma correlação entre faixa etária, sexo e mortalidade por AIDS vs. mortalidade geral?\n"
   ]
  },
  {
   "cell_type": "markdown",
   "id": "a5e51925",
   "metadata": {},
   "source": [
    " - Instalando as bibliotecas necessárias: "
   ]
  },
  {
   "cell_type": "code",
   "execution_count": 63,
   "id": "ef357a33-668f-47ca-92d3-faa696435ffb",
   "metadata": {},
   "outputs": [],
   "source": [
    "import pandas as pd\n",
    "import json\n",
    "import requests\n",
    "from bs4 import BeautifulSoup\n",
    "import os\n",
    "!pip install -q matplotlib==3.7.1 \n",
    "import matplotlib as mpl\n",
    "import matplotlib.pyplot as plt\n",
    "%matplotlib inline "
   ]
  },
  {
   "cell_type": "markdown",
   "id": "60e4eae7-38e0-427a-b502-3c45f75fb66d",
   "metadata": {},
   "source": [
    "## 2. Extração"
   ]
  },
  {
   "cell_type": "markdown",
   "id": "1e23ddd7-025e-4fdd-9913-7e3395ffe4dd",
   "metadata": {},
   "source": [
    "### 2.1 Extração do dataset de mortalidade por AIDs"
   ]
  },
  {
   "cell_type": "code",
   "execution_count": 38,
   "id": "19b90c61",
   "metadata": {},
   "outputs": [
    {
     "name": "stdout",
     "output_type": "stream",
     "text": [
      "Requisição bem-sucedida!\n",
      "URL do arquivo obtida\n",
      "Arquivo extraido com sucesso! Dados em dataframe\n"
     ]
    }
   ],
   "source": [
    "# Obtendo a página de dados de Mortalidade de AIDS\n",
    "url = \"https://dados.saude.go.gov.br/lv/dataset/ist-aids/resource/496e556f-ac27-45d6-b73c-8c30a918bf1c\"\n",
    "response = requests.get(url)\n",
    "\n",
    "if response.status_code == 200:\n",
    "    print(\"Requisição bem-sucedida!\")\n",
    "else:\n",
    "    print(f\"Erro na requisição: {response.status_code}\")\n",
    "    \n",
    "# Extraindo o arquivo do elemento botão \n",
    "# Utilizando a biblioteca Soup para parsear o retorno da requisição\n",
    "soup = BeautifulSoup(response.text, \"html.parser\")\n",
    "link_arq = soup.find(\"a\", class_=\"btn btn-primary resource-url-analytics resource-type-None\")\n",
    "\n",
    "if link_arq:\n",
    "    print(\"URL do arquivo obtida\")\n",
    "else:\n",
    "    print(\"Falha ao obter URL do arquivo\")\n",
    "        \n",
    "#Criando dataframe com os dados\n",
    "obitos_aids = pd.read_csv(link_arq[\"href\"], sep=\";\", encoding=\"UTF-8\")\n",
    "    \n",
    "if not obitos_aids.empty:\n",
    "    print(\"Arquivo extraido com sucesso! Dados em dataframe\")\n",
    "else:\n",
    "    print(\"Falha ao extrair arquivo da fonte na Web\")\n",
    "    "
   ]
  },
  {
   "cell_type": "markdown",
   "id": "6a39eabd-c565-44df-be70-772991c31473",
   "metadata": {},
   "source": [
    "### 2.2 Extração do dataset de mortalidade geral"
   ]
  },
  {
   "cell_type": "code",
   "execution_count": 39,
   "id": "dd2a060a-fa40-4e46-9590-dba8d5c2819e",
   "metadata": {},
   "outputs": [
    {
     "name": "stdout",
     "output_type": "stream",
     "text": [
      "Requisição bem-sucedida!\n",
      "URL do arquivo obtida\n",
      "Arquivo extraido com sucesso! Dados em dataframe\n"
     ]
    }
   ],
   "source": [
    "# Obtendo a página de dados de Mortalidade Geral\n",
    "url = \"https://dados.saude.go.gov.br/lv/dataset/mortalidade-geral/resource/2ff2bb21-9e9c-4775-a4d5-c1c8971ef1cf\"\n",
    "response = requests.get(url)\n",
    "\n",
    "if response.status_code == 200:\n",
    "    print(\"Requisição bem-sucedida!\")\n",
    "else:\n",
    "    print(f\"Erro na requisição: {response.status_code}\")\n",
    "    \n",
    "# Extraindo o arquivo do elemento botão \n",
    "# Utilizando a biblioteca Soup para parsear o retorno da requisição\n",
    "soup = BeautifulSoup(response.text, \"html.parser\")\n",
    "link_arq = soup.find(\"a\", class_=\"btn btn-primary resource-url-analytics resource-type-None\")\n",
    "\n",
    "if link_arq:\n",
    "    print(\"URL do arquivo obtida\")\n",
    "else:\n",
    "    print(\"Falha ao obter URL do arquivo\")\n",
    "        \n",
    "#Criando dataframe com os dados\n",
    "mortalidade_geral = pd.read_csv(link_arq[\"href\"], sep=\";\", encoding=\"UTF-8\")\n",
    "    \n",
    "if not mortalidade_geral.empty:\n",
    "    print(\"Arquivo extraido com sucesso! Dados em dataframe\")\n",
    "else:\n",
    "    print(\"Falha ao extrair arquivo da fonte na Web\")\n",
    "    "
   ]
  },
  {
   "cell_type": "markdown",
   "id": "a5019e12-decd-4070-bd74-877d99095f42",
   "metadata": {},
   "source": [
    "## 3. Tratmento e limpeza inicial dos dados"
   ]
  },
  {
   "cell_type": "markdown",
   "id": "a4cecfbe-37c1-4c7b-b983-ee7047840f7d",
   "metadata": {},
   "source": [
    "### 3.1 Visão Geral inicial dos dados"
   ]
  },
  {
   "cell_type": "code",
   "execution_count": 40,
   "id": "8d121513-a048-4b49-a71a-d7aa13d5d3fd",
   "metadata": {
    "scrolled": true
   },
   "outputs": [
    {
     "data": {
      "text/html": [
       "<div>\n",
       "<style scoped>\n",
       "    .dataframe tbody tr th:only-of-type {\n",
       "        vertical-align: middle;\n",
       "    }\n",
       "\n",
       "    .dataframe tbody tr th {\n",
       "        vertical-align: top;\n",
       "    }\n",
       "\n",
       "    .dataframe thead th {\n",
       "        text-align: right;\n",
       "    }\n",
       "</style>\n",
       "<table border=\"1\" class=\"dataframe\">\n",
       "  <thead>\n",
       "    <tr style=\"text-align: right;\">\n",
       "      <th></th>\n",
       "      <th>data_obito</th>\n",
       "      <th>codigo_ibge</th>\n",
       "      <th>municipio</th>\n",
       "      <th>regiao</th>\n",
       "      <th>macrorregiao</th>\n",
       "      <th>sexo</th>\n",
       "      <th>raca_cor</th>\n",
       "      <th>faixa_etaria</th>\n",
       "      <th>escolaridade</th>\n",
       "      <th>classificacao</th>\n",
       "    </tr>\n",
       "  </thead>\n",
       "  <tbody>\n",
       "    <tr>\n",
       "      <th>0</th>\n",
       "      <td>03/01/2010</td>\n",
       "      <td>520140</td>\n",
       "      <td>Aparecida de Goiânia</td>\n",
       "      <td>Região Centro-Oeste</td>\n",
       "      <td>Centro Sudeste</td>\n",
       "      <td>MASCULINO</td>\n",
       "      <td>PARDA</td>\n",
       "      <td>30 A 39 ANOS</td>\n",
       "      <td>IGNORADO</td>\n",
       "      <td>ADULTO</td>\n",
       "    </tr>\n",
       "    <tr>\n",
       "      <th>1</th>\n",
       "      <td>04/01/2010</td>\n",
       "      <td>520140</td>\n",
       "      <td>Aparecida de Goiânia</td>\n",
       "      <td>Região Centro-Oeste</td>\n",
       "      <td>Centro Sudeste</td>\n",
       "      <td>MASCULINO</td>\n",
       "      <td>PARDA</td>\n",
       "      <td>50 A 59 ANOS</td>\n",
       "      <td>4 A 7 ANOS</td>\n",
       "      <td>ADULTO</td>\n",
       "    </tr>\n",
       "    <tr>\n",
       "      <th>2</th>\n",
       "      <td>04/01/2010</td>\n",
       "      <td>521523</td>\n",
       "      <td>Novo Gama</td>\n",
       "      <td>Região Centro-Oeste</td>\n",
       "      <td>Nordeste</td>\n",
       "      <td>MASCULINO</td>\n",
       "      <td>PARDA</td>\n",
       "      <td>30 A 39 ANOS</td>\n",
       "      <td>4 A 7 ANOS</td>\n",
       "      <td>ADULTO</td>\n",
       "    </tr>\n",
       "    <tr>\n",
       "      <th>3</th>\n",
       "      <td>05/01/2010</td>\n",
       "      <td>520000</td>\n",
       "      <td>Município ignorado - GO</td>\n",
       "      <td>Região Centro-Oeste</td>\n",
       "      <td>Município ignorado - GO</td>\n",
       "      <td>IGNORADO</td>\n",
       "      <td>PRETA</td>\n",
       "      <td>IGNORADA</td>\n",
       "      <td>IGNORADO</td>\n",
       "      <td>ADULTO</td>\n",
       "    </tr>\n",
       "    <tr>\n",
       "      <th>4</th>\n",
       "      <td>06/01/2010</td>\n",
       "      <td>521740</td>\n",
       "      <td>Pires do Rio</td>\n",
       "      <td>Região Centro-Oeste</td>\n",
       "      <td>Centro Sudeste</td>\n",
       "      <td>MASCULINO</td>\n",
       "      <td>PARDA</td>\n",
       "      <td>20 A 29 ANOS</td>\n",
       "      <td>IGNORADO</td>\n",
       "      <td>ADULTO</td>\n",
       "    </tr>\n",
       "  </tbody>\n",
       "</table>\n",
       "</div>"
      ],
      "text/plain": [
       "   data_obito  codigo_ibge                municipio               regiao  \\\n",
       "0  03/01/2010       520140     Aparecida de Goiânia  Região Centro-Oeste   \n",
       "1  04/01/2010       520140     Aparecida de Goiânia  Região Centro-Oeste   \n",
       "2  04/01/2010       521523                Novo Gama  Região Centro-Oeste   \n",
       "3  05/01/2010       520000  Município ignorado - GO  Região Centro-Oeste   \n",
       "4  06/01/2010       521740             Pires do Rio  Região Centro-Oeste   \n",
       "\n",
       "              macrorregiao       sexo raca_cor  faixa_etaria escolaridade  \\\n",
       "0           Centro Sudeste  MASCULINO    PARDA  30 A 39 ANOS     IGNORADO   \n",
       "1           Centro Sudeste  MASCULINO    PARDA  50 A 59 ANOS   4 A 7 ANOS   \n",
       "2                 Nordeste  MASCULINO    PARDA  30 A 39 ANOS   4 A 7 ANOS   \n",
       "3  Município ignorado - GO   IGNORADO    PRETA      IGNORADA     IGNORADO   \n",
       "4           Centro Sudeste  MASCULINO    PARDA  20 A 29 ANOS     IGNORADO   \n",
       "\n",
       "  classificacao  \n",
       "0        ADULTO  \n",
       "1        ADULTO  \n",
       "2        ADULTO  \n",
       "3        ADULTO  \n",
       "4        ADULTO  "
      ]
     },
     "execution_count": 40,
     "metadata": {},
     "output_type": "execute_result"
    }
   ],
   "source": [
    "obitos_aids.head(5)"
   ]
  },
  {
   "cell_type": "code",
   "execution_count": 41,
   "id": "542d4b72-2268-41e7-8639-7bb34aaf1a56",
   "metadata": {},
   "outputs": [
    {
     "data": {
      "text/html": [
       "<div>\n",
       "<style scoped>\n",
       "    .dataframe tbody tr th:only-of-type {\n",
       "        vertical-align: middle;\n",
       "    }\n",
       "\n",
       "    .dataframe tbody tr th {\n",
       "        vertical-align: top;\n",
       "    }\n",
       "\n",
       "    .dataframe thead th {\n",
       "        text-align: right;\n",
       "    }\n",
       "</style>\n",
       "<table border=\"1\" class=\"dataframe\">\n",
       "  <thead>\n",
       "    <tr style=\"text-align: right;\">\n",
       "      <th></th>\n",
       "      <th>Município residência</th>\n",
       "      <th>Estado residência</th>\n",
       "      <th>Município ocorrência</th>\n",
       "      <th>Estado ocorrência</th>\n",
       "      <th>ano</th>\n",
       "      <th>faixa_etaria</th>\n",
       "      <th>sexo</th>\n",
       "      <th>Cód. CID 10</th>\n",
       "      <th>dcid_capitulo</th>\n",
       "      <th>total óbitos</th>\n",
       "    </tr>\n",
       "  </thead>\n",
       "  <tbody>\n",
       "    <tr>\n",
       "      <th>0</th>\n",
       "      <td>Abadiânia</td>\n",
       "      <td>GO</td>\n",
       "      <td>Abadiânia</td>\n",
       "      <td>GO</td>\n",
       "      <td>1996.0</td>\n",
       "      <td>10 A 14 ANOS</td>\n",
       "      <td>MASCULINO</td>\n",
       "      <td>Y334</td>\n",
       "      <td>XX</td>\n",
       "      <td>1</td>\n",
       "    </tr>\n",
       "    <tr>\n",
       "      <th>1</th>\n",
       "      <td>Abadiânia</td>\n",
       "      <td>GO</td>\n",
       "      <td>Abadiânia</td>\n",
       "      <td>GO</td>\n",
       "      <td>1996.0</td>\n",
       "      <td>10 A 14 ANOS</td>\n",
       "      <td>MASCULINO</td>\n",
       "      <td>Y349</td>\n",
       "      <td>XX</td>\n",
       "      <td>1</td>\n",
       "    </tr>\n",
       "    <tr>\n",
       "      <th>2</th>\n",
       "      <td>Abadiânia</td>\n",
       "      <td>GO</td>\n",
       "      <td>Abadiânia</td>\n",
       "      <td>GO</td>\n",
       "      <td>1996.0</td>\n",
       "      <td>15 A 19 ANOS</td>\n",
       "      <td>MASCULINO</td>\n",
       "      <td>R99</td>\n",
       "      <td>XVIII</td>\n",
       "      <td>1</td>\n",
       "    </tr>\n",
       "    <tr>\n",
       "      <th>3</th>\n",
       "      <td>Abadiânia</td>\n",
       "      <td>GO</td>\n",
       "      <td>Abadiânia</td>\n",
       "      <td>GO</td>\n",
       "      <td>1996.0</td>\n",
       "      <td>20 A 29 ANOS</td>\n",
       "      <td>FEMININO</td>\n",
       "      <td>V892</td>\n",
       "      <td>XX</td>\n",
       "      <td>1</td>\n",
       "    </tr>\n",
       "    <tr>\n",
       "      <th>4</th>\n",
       "      <td>Abadiânia</td>\n",
       "      <td>GO</td>\n",
       "      <td>Abadiânia</td>\n",
       "      <td>GO</td>\n",
       "      <td>1996.0</td>\n",
       "      <td>20 A 29 ANOS</td>\n",
       "      <td>MASCULINO</td>\n",
       "      <td>V892</td>\n",
       "      <td>XX</td>\n",
       "      <td>1</td>\n",
       "    </tr>\n",
       "  </tbody>\n",
       "</table>\n",
       "</div>"
      ],
      "text/plain": [
       "  Município residência Estado residência Município ocorrência  \\\n",
       "0            Abadiânia                GO            Abadiânia   \n",
       "1            Abadiânia                GO            Abadiânia   \n",
       "2            Abadiânia                GO            Abadiânia   \n",
       "3            Abadiânia                GO            Abadiânia   \n",
       "4            Abadiânia                GO            Abadiânia   \n",
       "\n",
       "  Estado ocorrência     ano  faixa_etaria       sexo Cód. CID 10  \\\n",
       "0                GO  1996.0  10 A 14 ANOS  MASCULINO        Y334   \n",
       "1                GO  1996.0  10 A 14 ANOS  MASCULINO        Y349   \n",
       "2                GO  1996.0  15 A 19 ANOS  MASCULINO         R99   \n",
       "3                GO  1996.0  20 A 29 ANOS   FEMININO        V892   \n",
       "4                GO  1996.0  20 A 29 ANOS  MASCULINO        V892   \n",
       "\n",
       "  dcid_capitulo  total óbitos  \n",
       "0            XX             1  \n",
       "1            XX             1  \n",
       "2         XVIII             1  \n",
       "3            XX             1  \n",
       "4            XX             1  "
      ]
     },
     "execution_count": 41,
     "metadata": {},
     "output_type": "execute_result"
    }
   ],
   "source": [
    "mortalidade_geral.head(5)"
   ]
  },
  {
   "cell_type": "code",
   "execution_count": 42,
   "id": "696cbf0a-b999-4862-9272-bbba09e406cf",
   "metadata": {},
   "outputs": [
    {
     "name": "stdout",
     "output_type": "stream",
     "text": [
      "O dataset obitos_aids possui 44050 registros\n",
      "Já o dataset mortalidade_geral possui 6916010 registros\n"
     ]
    }
   ],
   "source": [
    "print(f\"O dataset obitos_aids possui {obitos_aids.size} registros\")\n",
    "print(f\"Já o dataset mortalidade_geral possui {mortalidade_geral.size} registros\")"
   ]
  },
  {
   "cell_type": "code",
   "execution_count": 43,
   "id": "1cba5c4a-c9d4-4a30-9d53-701a9c251f72",
   "metadata": {},
   "outputs": [
    {
     "data": {
      "text/plain": [
       "data_obito       object\n",
       "codigo_ibge       int64\n",
       "municipio        object\n",
       "regiao           object\n",
       "macrorregiao     object\n",
       "sexo             object\n",
       "raca_cor         object\n",
       "faixa_etaria     object\n",
       "escolaridade     object\n",
       "classificacao    object\n",
       "dtype: object"
      ]
     },
     "execution_count": 43,
     "metadata": {},
     "output_type": "execute_result"
    }
   ],
   "source": [
    "#Tipos dos dados das colunas \n",
    "obitos_aids.dtypes"
   ]
  },
  {
   "cell_type": "code",
   "execution_count": 44,
   "id": "43e58100-d447-4e98-b297-e48833c1f2c3",
   "metadata": {},
   "outputs": [
    {
     "data": {
      "text/plain": [
       "data_obito       object\n",
       "codigo_ibge       int64\n",
       "municipio        object\n",
       "regiao           object\n",
       "macrorregiao     object\n",
       "sexo             object\n",
       "raca_cor         object\n",
       "faixa_etaria     object\n",
       "escolaridade     object\n",
       "classificacao    object\n",
       "dtype: object"
      ]
     },
     "execution_count": 44,
     "metadata": {},
     "output_type": "execute_result"
    }
   ],
   "source": [
    "obitos_aids.dtypes"
   ]
  },
  {
   "cell_type": "code",
   "execution_count": 45,
   "id": "5564a96a-bf01-4d7d-88e8-89c5bcbfe941",
   "metadata": {},
   "outputs": [
    {
     "data": {
      "text/plain": [
       "Município residência     object\n",
       "Estado residência        object\n",
       "Município ocorrência     object\n",
       "Estado ocorrência        object\n",
       "ano                     float64\n",
       "faixa_etaria             object\n",
       "sexo                     object\n",
       "Cód. CID 10              object\n",
       "dcid_capitulo            object\n",
       "total óbitos              int64\n",
       "dtype: object"
      ]
     },
     "execution_count": 45,
     "metadata": {},
     "output_type": "execute_result"
    }
   ],
   "source": [
    "#Tipos dos dados das colunas \n",
    "mortalidade_geral.dtypes"
   ]
  },
  {
   "cell_type": "markdown",
   "id": "07c4fc68-a745-45a5-8725-ac90e7b33da7",
   "metadata": {},
   "source": [
    "### 3.1 Tratamento inicial dos dados"
   ]
  },
  {
   "cell_type": "markdown",
   "id": "3af9d625-3a3f-4205-a2bc-c2e2081f5462",
   "metadata": {},
   "source": [
    "Intervalos de data dos datasets:"
   ]
  },
  {
   "cell_type": "code",
   "execution_count": 46,
   "id": "fec1b27b-67e4-4f3a-8db0-a5bbc51f90f0",
   "metadata": {},
   "outputs": [
    {
     "name": "stdout",
     "output_type": "stream",
     "text": [
      "Intervalo de datas dos dados de Mortalidade Geral:\n",
      "1996.0\n",
      "a\n",
      "2024.0\n"
     ]
    }
   ],
   "source": [
    "print(\"Intervalo de datas dos dados de Mortalidade Geral:\")\n",
    "print(mortalidade_geral[\"ano\"].min())\n",
    "print(\"a\")\n",
    "print(mortalidade_geral[\"ano\"].max())"
   ]
  },
  {
   "cell_type": "code",
   "execution_count": 47,
   "id": "25a2d934-bda8-4ff1-884f-62f81574a404",
   "metadata": {},
   "outputs": [
    {
     "name": "stdout",
     "output_type": "stream",
     "text": [
      "Intervalo de datas dos dados de Obitos por AIDS:\n",
      "2010\n",
      "a\n",
      "2025\n"
     ]
    }
   ],
   "source": [
    "print(\"Intervalo de datas dos dados de Obitos por AIDS:\")\n",
    "obitos_aids[\"data_obito\"] = pd.to_datetime(obitos_aids[\"data_obito\"], format=\"%d/%m/%Y\", errors=\"coerce\")\n",
    "print(obitos_aids[\"data_obito\"].dt.year.min())\n",
    "print(\"a\")\n",
    "print(obitos_aids[\"data_obito\"].dt.year.max())"
   ]
  },
  {
   "cell_type": "markdown",
   "id": "c46a2157-c723-4933-936b-42db476dfb53",
   "metadata": {},
   "source": [
    "Podemos ver que os dados dos dois datasets possuem intervalos de datas de registros diferentes.\n",
    "Para favorecer futuras análises temporais e correlações, vamos fatiar os dados para que tenham correpondência de intervalos.\n",
    "Logo, vamos capturar os insights refletidos entre os períodos de 2010 a 2024."
   ]
  },
  {
   "cell_type": "code",
   "execution_count": 48,
   "id": "fbd0bbbe-fdd5-4342-ac49-34589784a2a4",
   "metadata": {},
   "outputs": [],
   "source": [
    "#Criando coluna com apenas o ano no dataset obitos_aids\n",
    "obitos_aids[\"ano\"] = obitos_aids[\"data_obito\"].dt.year.astype(\"Int64\")\n",
    "#modificando tipo dos valores da coluna ano em mortalidade_geral\n",
    "mortalidade_geral[\"ano\"] = pd.to_numeric(mortalidade_geral[\"ano\"], errors=\"coerce\").astype(\"Int64\")\n"
   ]
  },
  {
   "cell_type": "code",
   "execution_count": 49,
   "id": "e819beaf-36fd-48c9-bad0-1e8556a1e574",
   "metadata": {},
   "outputs": [
    {
     "data": {
      "text/plain": [
       "data_obito       datetime64[ns]\n",
       "codigo_ibge               int64\n",
       "municipio                object\n",
       "regiao                   object\n",
       "macrorregiao             object\n",
       "sexo                     object\n",
       "raca_cor                 object\n",
       "faixa_etaria             object\n",
       "escolaridade             object\n",
       "classificacao            object\n",
       "ano                       Int64\n",
       "dtype: object"
      ]
     },
     "execution_count": 49,
     "metadata": {},
     "output_type": "execute_result"
    }
   ],
   "source": [
    "obitos_aids.dtypes"
   ]
  },
  {
   "cell_type": "code",
   "execution_count": 50,
   "id": "35e6a73b-2cb6-4558-b43e-520c4bd460d5",
   "metadata": {},
   "outputs": [
    {
     "data": {
      "text/plain": [
       "Município residência    object\n",
       "Estado residência       object\n",
       "Município ocorrência    object\n",
       "Estado ocorrência       object\n",
       "ano                      Int64\n",
       "faixa_etaria            object\n",
       "sexo                    object\n",
       "Cód. CID 10             object\n",
       "dcid_capitulo           object\n",
       "total óbitos             int64\n",
       "dtype: object"
      ]
     },
     "execution_count": 50,
     "metadata": {},
     "output_type": "execute_result"
    }
   ],
   "source": [
    "mortalidade_geral.dtypes"
   ]
  },
  {
   "cell_type": "code",
   "execution_count": 51,
   "id": "32f94e25-fbbb-4fc8-82a1-1e35d176c71b",
   "metadata": {},
   "outputs": [],
   "source": [
    "#Fatiando os datasets para corresponderem ao mesmo intervalo\n",
    "mortalidade_geral = mortalidade_geral[mortalidade_geral[\"ano\"] >= 2010]\n",
    "obitos_aids = obitos_aids[obitos_aids[\"ano\"] < 2025]"
   ]
  },
  {
   "cell_type": "code",
   "execution_count": 52,
   "id": "a0e97e28-13a4-4f73-9adc-96fbe0bbfd6c",
   "metadata": {},
   "outputs": [
    {
     "name": "stdout",
     "output_type": "stream",
     "text": [
      "Intervalo de datas dos dados de Mortalidade Geral agora é:\n",
      "2010\n",
      "a\n",
      "2024\n"
     ]
    }
   ],
   "source": [
    "print(\"Intervalo de datas dos dados de Mortalidade Geral agora é:\")\n",
    "print(mortalidade_geral[\"ano\"].min())\n",
    "print(\"a\")\n",
    "print(mortalidade_geral[\"ano\"].max())"
   ]
  },
  {
   "cell_type": "code",
   "execution_count": 53,
   "id": "763d65b1-134e-473a-b14d-e1aff0ef6b97",
   "metadata": {},
   "outputs": [
    {
     "name": "stdout",
     "output_type": "stream",
     "text": [
      "Intervalo de datas dos dados de Obitos por AIDS agora é:\n",
      "2010\n",
      "a\n",
      "2024\n"
     ]
    }
   ],
   "source": [
    "print(\"Intervalo de datas dos dados de Obitos por AIDS agora é:\")\n",
    "obitos_aids[\"data_obito\"] = pd.to_datetime(obitos_aids[\"data_obito\"], format=\"%d/%m/%Y\", errors=\"coerce\")\n",
    "print(obitos_aids[\"data_obito\"].dt.year.min())\n",
    "print(\"a\")\n",
    "print(obitos_aids[\"data_obito\"].dt.year.max())"
   ]
  },
  {
   "cell_type": "markdown",
   "id": "cb7f9025-bd45-496b-a2d8-8c59f8968414",
   "metadata": {},
   "source": [
    "## 4. Análise Exploratória dos Dados"
   ]
  },
  {
   "cell_type": "markdown",
   "id": "d6907097-d8a4-4d7a-b492-2d0340c8c11a",
   "metadata": {},
   "source": [
    "Vamos focar nas perguntas a respeito de um unico data set: O de obitos por AIDS "
   ]
  },
  {
   "cell_type": "markdown",
   "id": "10119d5b-bd35-49fe-88b7-229d694a9bc2",
   "metadata": {},
   "source": [
    "**Qual município teve o maior número de óbitos?**"
   ]
  },
  {
   "cell_type": "code",
   "execution_count": 54,
   "id": "f5e27715-c231-4245-aba2-1268d56a52bc",
   "metadata": {},
   "outputs": [
    {
     "data": {
      "text/plain": [
       "municipio\n",
       "Goiânia                  1234\n",
       "Aparecida de Goiânia      399\n",
       "Anápolis                  222\n",
       "Rio Verde                 176\n",
       "Itumbiara                 115\n",
       "Luziânia                  113\n",
       "Valparaíso de Goiás       102\n",
       "Trindade                   94\n",
       "Águas Lindas de Goiás      93\n",
       "Senador Canedo             86\n",
       "Name: data_obito, dtype: int64"
      ]
     },
     "execution_count": 54,
     "metadata": {},
     "output_type": "execute_result"
    }
   ],
   "source": [
    "obitos_por_municipio = obitos_aids.groupby(\"municipio\")[\"data_obito\"].count().sort_values(ascending=False)\n",
    "obitos_por_municipio.head(10)"
   ]
  },
  {
   "cell_type": "code",
   "execution_count": 56,
   "id": "c5281775-9b5c-4d5c-9b6f-1988ac8fd22d",
   "metadata": {},
   "outputs": [
    {
     "data": {
      "text/plain": [
       "[('Goiânia', 1234),\n",
       " ('Aparecida de Goiânia', 399),\n",
       " ('Anápolis', 222),\n",
       " ('Rio Verde', 176),\n",
       " ('Itumbiara', 115)]"
      ]
     },
     "execution_count": 56,
     "metadata": {},
     "output_type": "execute_result"
    }
   ],
   "source": [
    "top5_obitos_por_municipio = list(obitos_por_municipio.head(5).items())\n",
    "top5_obitos_por_municipio\n"
   ]
  },
  {
   "cell_type": "code",
   "execution_count": 57,
   "id": "1e43819e-882c-4a0b-b790-89e49466a253",
   "metadata": {},
   "outputs": [
    {
     "name": "stdout",
     "output_type": "stream",
     "text": [
      "O município com maior número de óbitos no período de 2010 a 2024 foi Goiânia com 1234 óbitos.\n",
      "Seguido por Aparecida de Goiânia com 399 óbitos.\n",
      "Em terceiro, quarto e quinto lugar, ficaram, respectivamente os municipios: \n",
      "Anápolis com 222 óbitos.\n",
      "Rio Verde com 176 óbitos.\n",
      "Itumbiara com 115 óbitos.\n"
     ]
    }
   ],
   "source": [
    "print(\n",
    "    f\"O município com maior número de óbitos no período de 2010 a 2024 foi \"\n",
    "    f\"{top5_obitos_por_municipio[0][0]} com {top5_obitos_por_municipio[0][1]} óbitos.\"\n",
    "    )\n",
    "print(\n",
    "    f\"Seguido por \"\n",
    "    f\"{top5_obitos_por_municipio[1][0]} com {top5_obitos_por_municipio[1][1]} óbitos.\"\n",
    "    )\n",
    "print(\n",
    "    f\"Em terceiro, quarto e quinto lugar, ficaram, respectivamente os municipios: \"\n",
    "    f\"\\n{top5_obitos_por_municipio[2][0]} com {top5_obitos_por_municipio[2][1]} óbitos.\"\n",
    "    f\"\\n{top5_obitos_por_municipio[3][0]} com {top5_obitos_por_municipio[3][1]} óbitos.\"\n",
    "    f\"\\n{top5_obitos_por_municipio[4][0]} com {top5_obitos_por_municipio[4][1]} óbitos.\"\n",
    "    )\n"
   ]
  },
  {
   "cell_type": "code",
   "execution_count": 86,
   "id": "041a0f7e-5bc2-4a34-a8ac-17eaa94f7759",
   "metadata": {},
   "outputs": [
    {
     "data": {
      "image/png": "[encoded data removed]",
      "text/plain": [
       "<Figure size 640x480 with 1 Axes>"
      ]
     },
     "metadata": {},
     "output_type": "display_data"
    }
   ],
   "source": [
    "x = [estado[0] for estado in top5_obitos_por_municipio]\n",
    "y = [obitos[1] for obitos in top5_obitos_por_municipio]\n",
    "\n",
    "gf_obitos_municipio = plt.bar(x, y, width=0.8)\n",
    "plt.title(\"Top 5 - Cidades com Maior Número de Óbitos por AIDs\", fontsize=8)\n",
    "plt.bar_label(gf_obitos_municipio, label_type='edge', padding=5, fontsize=10)\n",
    "plt.ylabel('Número de Óbitos', fontsize=8)\n",
    "plt.margins(y=0.1)\n",
    "plt.xticks(rotation=45, ha='right')\n",
    "plt.show()"
   ]
  },
  {
   "cell_type": "markdown",
   "id": "05fa3a9f-3fa7-454a-94ba-ee0c7c80e47c",
   "metadata": {},
   "source": [
    "Partindo para a próxima pergunta:"
   ]
  },
  {
   "cell_type": "markdown",
   "id": "2fcef3e1-84ac-43cc-b3c1-747a9d308544",
   "metadata": {},
   "source": [
    "**Como a mortalidade por AIDS está distribuída por macrorregião e região?**"
   ]
  },
  {
   "cell_type": "code",
   "execution_count": 166,
   "id": "84e4392f-df7f-42cc-8852-aef4a4abe8b7",
   "metadata": {},
   "outputs": [],
   "source": [
    "contagem_macrorregiao_num = obitos_aids.groupby(\"macrorregiao\")[\"data_obito\"].count().sort_values(ascending= False).head(5)\n"
   ]
  },
  {
   "cell_type": "code",
   "execution_count": 168,
   "id": "c3945430-34b7-4a67-b859-13eb21064065",
   "metadata": {},
   "outputs": [
    {
     "name": "stdout",
     "output_type": "stream",
     "text": [
      "A macrorregião com maior número de óbitos no período de 2010 a 2024 foi Centro Oeste com 1699 óbitos, representando 38.8% dos óbitos.\n",
      "Seguido por Centro Sudeste com 1085 óbitos, representando 24.8% dos óbitos.\n",
      "Em terceiro, quarto e quinto lugar, ficaram, respectivamente, as macrorregiões: Nordeste com 585 óbitos, representando 13.4%, Centro Norte com 512 óbitos, representando 11.7%, Sudoeste com 493 óbitos, representando 11.3%\n"
     ]
    }
   ],
   "source": [
    "contagem_macrorregiao = contagem_macrorregiao_num.reset_index(name='numero_obitos')\n",
    "total = contagem_macrorregiao['numero_obitos'].sum()\n",
    "contagem_macrorregiao['porcentagem'] = contagem_macrorregiao['numero_obitos'] / total * 100\n",
    "\n",
    "mensagem = (\n",
    "    f\"A macrorregião com maior número de óbitos no período de 2010 a 2024 foi {contagem_macrorregiao.iloc[0]['macrorregiao']} \"\n",
    "    f\"com {contagem_macrorregiao.iloc[0]['numero_obitos']} óbitos, representando {contagem_macrorregiao.iloc[0]['porcentagem']:.1f}% dos óbitos.\\n\"\n",
    "    f\"Seguido por {contagem_macrorregiao.iloc[1]['macrorregiao']} com {contagem_macrorregiao.iloc[1]['numero_obitos']} óbitos, representando {contagem_macrorregiao.iloc[1]['porcentagem']:.1f}% dos óbitos.\\n\"\n",
    "    \"Em terceiro, quarto e quinto lugar, ficaram, respectivamente, as macrorregiões: \" +\n",
    "    \", \".join([\n",
    "        f\"{contagem_macrorregiao.iloc[i]['macrorregiao']} com {contagem_macrorregiao.iloc[i]['numero_obitos']} óbitos, representando {contagem_macrorregiao.iloc[i]['porcentagem']:.1f}%\"\n",
    "        for i in range(2, len(contagem_macrorregiao))\n",
    "    ])\n",
    ")\n",
    "\n",
    "print(mensagem)"
   ]
  },
  {
   "cell_type": "code",
   "execution_count": 160,
   "id": "565e2538-6643-461e-be01-2b6a1733951c",
   "metadata": {},
   "outputs": [],
   "source": [
    "obitos_macrorregiao = list(contagem_macrorregiao_num.head(5).items())\n",
    "macrorregioes = [macrorregiao[0] for macrorregiao in obitos_macrorregiao]\n",
    "obitos = [obitos[1] for obitos in obitos_macrorregiao]"
   ]
  },
  {
   "cell_type": "code",
   "execution_count": 159,
   "id": "a7fcf9c1-725c-4b1f-8292-6554fd8ff6fe",
   "metadata": {},
   "outputs": [
    {
     "data": {
      "image/png": "[encoded data removed]",
      "text/plain": [
       "<Figure size 640x480 with 1 Axes>"
      ]
     },
     "metadata": {},
     "output_type": "display_data"
    }
   ],
   "source": [
    "plt.pie(obitos, labels = macrorregioes, autopct= \"%1.1f%%\", startangle=90)\n",
    "plt.show()"
   ]
  },
  {
   "cell_type": "code",
   "execution_count": null,
   "id": "c917f519-6bae-4254-addc-a1e6bf6e793d",
   "metadata": {},
   "outputs": [],
   "source": []
  }
 ],
 "metadata": {
  "kernelspec": {
   "display_name": "Python 3 (ipykernel)",
   "language": "python",
   "name": "python3"
  },
  "language_info": {
   "codemirror_mode": {
    "name": "ipython",
    "version": 3
   },
   "file_extension": ".py",
   "mimetype": "text/x-python",
   "name": "python",
   "nbconvert_exporter": "python",
   "pygments_lexer": "ipython3",
   "version": "3.11.7"
  }
 },
 "nbformat": 4,
 "nbformat_minor": 5
}
